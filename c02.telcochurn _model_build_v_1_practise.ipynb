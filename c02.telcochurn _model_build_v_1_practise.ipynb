{
 "cells": [
  {
   "cell_type": "code",
   "execution_count": 1,
   "id": "theoretical-junction",
   "metadata": {},
   "outputs": [],
   "source": [
    "import pandas as pd\n",
    "import numpy as np\n",
    "import matplotlib.pyplot as plt\n",
    "import seaborn as sns\n",
    "from sklearn.linear_model import LogisticRegression\n",
    "from sklearn.model_selection import train_test_split\n",
    "from sklearn.model_selection import GridSearchCV\n",
    "from numpy import arange\n",
    "from sklearn import preprocessing\n",
    "from sklearn.metrics import roc_auc_score\n",
    "from sklearn.metrics import roc_curve\n",
    "from sklearn.model_selection import cross_validate\n",
    "from sklearn.metrics import classification_report, confusion_matrix\n",
    "from sklearn.metrics import make_scorer, accuracy_score, f1_score\n",
    "from sklearn.metrics import precision_recall_curve\n",
    "from sklearn.metrics import precision_score\n",
    "from sklearn.metrics import recall_score\n",
    "from fpdf import FPDF\n",
    "from sklearn.pipeline import Pipeline\n",
    "import pickle\n",
    "from datetime import datetime as dt\n",
    "from datetime import timedelta\n",
    "from imblearn.over_sampling import SMOTE"
   ]
  },
  {
   "cell_type": "code",
   "execution_count": 2,
   "id": "dramatic-happening",
   "metadata": {},
   "outputs": [],
   "source": [
    "%matplotlib inline\n",
    "plt.style.use('fivethirtyeight')\n",
    "pd.options.display.max_rows = None\n",
    "pd.options.display.max_columns = None"
   ]
  },
  {
   "cell_type": "code",
   "execution_count": 3,
   "id": "postal-russia",
   "metadata": {},
   "outputs": [],
   "source": [
    "df_churn = pd.read_pickle('./data/training/churn_practise.pickle')"
   ]
  },
  {
   "cell_type": "code",
   "execution_count": 4,
   "id": "unknown-gathering",
   "metadata": {},
   "outputs": [
    {
     "data": {
      "text/html": [
       "<div>\n",
       "<style scoped>\n",
       "    .dataframe tbody tr th:only-of-type {\n",
       "        vertical-align: middle;\n",
       "    }\n",
       "\n",
       "    .dataframe tbody tr th {\n",
       "        vertical-align: top;\n",
       "    }\n",
       "\n",
       "    .dataframe thead th {\n",
       "        text-align: right;\n",
       "    }\n",
       "</style>\n",
       "<table border=\"1\" class=\"dataframe\">\n",
       "  <thead>\n",
       "    <tr style=\"text-align: right;\">\n",
       "      <th></th>\n",
       "      <th>SENIOR_CITIZEN</th>\n",
       "      <th>TENURE</th>\n",
       "      <th>MONTHLY_CHARGES</th>\n",
       "      <th>CHURN_STATUS</th>\n",
       "      <th>GENDER_F</th>\n",
       "      <th>GENDER_M</th>\n",
       "    </tr>\n",
       "  </thead>\n",
       "  <tbody>\n",
       "    <tr>\n",
       "      <th>0</th>\n",
       "      <td>0</td>\n",
       "      <td>1</td>\n",
       "      <td>29.85</td>\n",
       "      <td>0</td>\n",
       "      <td>1</td>\n",
       "      <td>0</td>\n",
       "    </tr>\n",
       "    <tr>\n",
       "      <th>1</th>\n",
       "      <td>0</td>\n",
       "      <td>34</td>\n",
       "      <td>56.95</td>\n",
       "      <td>0</td>\n",
       "      <td>0</td>\n",
       "      <td>1</td>\n",
       "    </tr>\n",
       "    <tr>\n",
       "      <th>2</th>\n",
       "      <td>0</td>\n",
       "      <td>2</td>\n",
       "      <td>53.85</td>\n",
       "      <td>1</td>\n",
       "      <td>0</td>\n",
       "      <td>1</td>\n",
       "    </tr>\n",
       "    <tr>\n",
       "      <th>3</th>\n",
       "      <td>0</td>\n",
       "      <td>45</td>\n",
       "      <td>42.30</td>\n",
       "      <td>0</td>\n",
       "      <td>0</td>\n",
       "      <td>1</td>\n",
       "    </tr>\n",
       "    <tr>\n",
       "      <th>4</th>\n",
       "      <td>0</td>\n",
       "      <td>2</td>\n",
       "      <td>70.70</td>\n",
       "      <td>1</td>\n",
       "      <td>1</td>\n",
       "      <td>0</td>\n",
       "    </tr>\n",
       "  </tbody>\n",
       "</table>\n",
       "</div>"
      ],
      "text/plain": [
       "   SENIOR_CITIZEN  TENURE  MONTHLY_CHARGES  CHURN_STATUS  GENDER_F  GENDER_M\n",
       "0               0       1            29.85             0         1         0\n",
       "1               0      34            56.95             0         0         1\n",
       "2               0       2            53.85             1         0         1\n",
       "3               0      45            42.30             0         0         1\n",
       "4               0       2            70.70             1         1         0"
      ]
     },
     "execution_count": 4,
     "metadata": {},
     "output_type": "execute_result"
    }
   ],
   "source": [
    "df_churn.head()"
   ]
  },
  {
   "cell_type": "code",
   "execution_count": 5,
   "id": "introductory-abraham",
   "metadata": {},
   "outputs": [],
   "source": [
    "df = df_churn.copy()"
   ]
  },
  {
   "cell_type": "code",
   "execution_count": 6,
   "id": "dirty-surgery",
   "metadata": {},
   "outputs": [
    {
     "data": {
      "text/plain": [
       "(7043, 6)"
      ]
     },
     "execution_count": 6,
     "metadata": {},
     "output_type": "execute_result"
    }
   ],
   "source": [
    "df.shape"
   ]
  },
  {
   "cell_type": "code",
   "execution_count": 7,
   "id": "previous-strengthening",
   "metadata": {},
   "outputs": [
    {
     "name": "stdout",
     "output_type": "stream",
     "text": [
      "<class 'pandas.core.frame.DataFrame'>\n",
      "Int64Index: 7043 entries, 0 to 7042\n",
      "Data columns (total 6 columns):\n",
      " #   Column           Non-Null Count  Dtype  \n",
      "---  ------           --------------  -----  \n",
      " 0   SENIOR_CITIZEN   7043 non-null   int64  \n",
      " 1   TENURE           7043 non-null   int64  \n",
      " 2   MONTHLY_CHARGES  7043 non-null   float64\n",
      " 3   CHURN_STATUS     7043 non-null   int64  \n",
      " 4   GENDER_F         7043 non-null   uint8  \n",
      " 5   GENDER_M         7043 non-null   uint8  \n",
      "dtypes: float64(1), int64(3), uint8(2)\n",
      "memory usage: 288.9 KB\n"
     ]
    }
   ],
   "source": [
    "df.info()"
   ]
  },
  {
   "cell_type": "code",
   "execution_count": 8,
   "id": "straight-benchmark",
   "metadata": {},
   "outputs": [
    {
     "data": {
      "text/plain": [
       "Index(['SENIOR_CITIZEN', 'TENURE', 'MONTHLY_CHARGES', 'CHURN_STATUS',\n",
       "       'GENDER_F', 'GENDER_M'],\n",
       "      dtype='object')"
      ]
     },
     "execution_count": 8,
     "metadata": {},
     "output_type": "execute_result"
    }
   ],
   "source": [
    "df.columns"
   ]
  },
  {
   "cell_type": "code",
   "execution_count": 9,
   "id": "otherwise-upgrade",
   "metadata": {},
   "outputs": [
    {
     "data": {
      "text/html": [
       "<div>\n",
       "<style scoped>\n",
       "    .dataframe tbody tr th:only-of-type {\n",
       "        vertical-align: middle;\n",
       "    }\n",
       "\n",
       "    .dataframe tbody tr th {\n",
       "        vertical-align: top;\n",
       "    }\n",
       "\n",
       "    .dataframe thead th {\n",
       "        text-align: right;\n",
       "    }\n",
       "</style>\n",
       "<table border=\"1\" class=\"dataframe\">\n",
       "  <thead>\n",
       "    <tr style=\"text-align: right;\">\n",
       "      <th></th>\n",
       "      <th>SENIOR_CITIZEN</th>\n",
       "      <th>TENURE</th>\n",
       "      <th>MONTHLY_CHARGES</th>\n",
       "      <th>CHURN_STATUS</th>\n",
       "      <th>GENDER_F</th>\n",
       "      <th>GENDER_M</th>\n",
       "    </tr>\n",
       "  </thead>\n",
       "  <tbody>\n",
       "    <tr>\n",
       "      <th>count</th>\n",
       "      <td>7043.000000</td>\n",
       "      <td>7043.000000</td>\n",
       "      <td>7043.000000</td>\n",
       "      <td>7043.000000</td>\n",
       "      <td>7043.000000</td>\n",
       "      <td>7043.000000</td>\n",
       "    </tr>\n",
       "    <tr>\n",
       "      <th>mean</th>\n",
       "      <td>0.162147</td>\n",
       "      <td>32.371149</td>\n",
       "      <td>64.761692</td>\n",
       "      <td>0.265370</td>\n",
       "      <td>0.495244</td>\n",
       "      <td>0.504756</td>\n",
       "    </tr>\n",
       "    <tr>\n",
       "      <th>std</th>\n",
       "      <td>0.368612</td>\n",
       "      <td>24.559481</td>\n",
       "      <td>30.090047</td>\n",
       "      <td>0.441561</td>\n",
       "      <td>0.500013</td>\n",
       "      <td>0.500013</td>\n",
       "    </tr>\n",
       "    <tr>\n",
       "      <th>min</th>\n",
       "      <td>0.000000</td>\n",
       "      <td>0.000000</td>\n",
       "      <td>18.250000</td>\n",
       "      <td>0.000000</td>\n",
       "      <td>0.000000</td>\n",
       "      <td>0.000000</td>\n",
       "    </tr>\n",
       "    <tr>\n",
       "      <th>25%</th>\n",
       "      <td>0.000000</td>\n",
       "      <td>9.000000</td>\n",
       "      <td>35.500000</td>\n",
       "      <td>0.000000</td>\n",
       "      <td>0.000000</td>\n",
       "      <td>0.000000</td>\n",
       "    </tr>\n",
       "    <tr>\n",
       "      <th>50%</th>\n",
       "      <td>0.000000</td>\n",
       "      <td>29.000000</td>\n",
       "      <td>70.350000</td>\n",
       "      <td>0.000000</td>\n",
       "      <td>0.000000</td>\n",
       "      <td>1.000000</td>\n",
       "    </tr>\n",
       "    <tr>\n",
       "      <th>75%</th>\n",
       "      <td>0.000000</td>\n",
       "      <td>55.000000</td>\n",
       "      <td>89.850000</td>\n",
       "      <td>1.000000</td>\n",
       "      <td>1.000000</td>\n",
       "      <td>1.000000</td>\n",
       "    </tr>\n",
       "    <tr>\n",
       "      <th>max</th>\n",
       "      <td>1.000000</td>\n",
       "      <td>72.000000</td>\n",
       "      <td>118.750000</td>\n",
       "      <td>1.000000</td>\n",
       "      <td>1.000000</td>\n",
       "      <td>1.000000</td>\n",
       "    </tr>\n",
       "  </tbody>\n",
       "</table>\n",
       "</div>"
      ],
      "text/plain": [
       "       SENIOR_CITIZEN       TENURE  MONTHLY_CHARGES  CHURN_STATUS  \\\n",
       "count     7043.000000  7043.000000      7043.000000   7043.000000   \n",
       "mean         0.162147    32.371149        64.761692      0.265370   \n",
       "std          0.368612    24.559481        30.090047      0.441561   \n",
       "min          0.000000     0.000000        18.250000      0.000000   \n",
       "25%          0.000000     9.000000        35.500000      0.000000   \n",
       "50%          0.000000    29.000000        70.350000      0.000000   \n",
       "75%          0.000000    55.000000        89.850000      1.000000   \n",
       "max          1.000000    72.000000       118.750000      1.000000   \n",
       "\n",
       "          GENDER_F     GENDER_M  \n",
       "count  7043.000000  7043.000000  \n",
       "mean      0.495244     0.504756  \n",
       "std       0.500013     0.500013  \n",
       "min       0.000000     0.000000  \n",
       "25%       0.000000     0.000000  \n",
       "50%       0.000000     1.000000  \n",
       "75%       1.000000     1.000000  \n",
       "max       1.000000     1.000000  "
      ]
     },
     "execution_count": 9,
     "metadata": {},
     "output_type": "execute_result"
    }
   ],
   "source": [
    "df.describe()"
   ]
  },
  {
   "cell_type": "code",
   "execution_count": 10,
   "id": "precious-domain",
   "metadata": {},
   "outputs": [],
   "source": [
    "X = df.drop('CHURN_STATUS', axis= 1)\n",
    "y = df['CHURN_STATUS'].values"
   ]
  },
  {
   "cell_type": "code",
   "execution_count": 11,
   "id": "future-functionality",
   "metadata": {},
   "outputs": [],
   "source": [
    "X_train,X_test,y_train,y_test = train_test_split(X,y,test_size= 0.2, random_state= 0)\n",
    "X_train,X_val,y_train,y_val =train_test_split (X_train,y_train, test_size = 0.25, random_state=0)"
   ]
  },
  {
   "cell_type": "code",
   "execution_count": 12,
   "id": "accomplished-limitation",
   "metadata": {},
   "outputs": [
    {
     "data": {
      "text/plain": [
       "0    5174\n",
       "1    1869\n",
       "Name: CHURN_STATUS, dtype: int64"
      ]
     },
     "execution_count": 12,
     "metadata": {},
     "output_type": "execute_result"
    }
   ],
   "source": [
    "df.CHURN_STATUS.value_counts()"
   ]
  },
  {
   "cell_type": "code",
   "execution_count": 13,
   "id": "frozen-continuity",
   "metadata": {},
   "outputs": [],
   "source": [
    "sm = SMOTE()"
   ]
  },
  {
   "cell_type": "code",
   "execution_count": 14,
   "id": "parental-pepper",
   "metadata": {},
   "outputs": [],
   "source": [
    "X_train_smote, y_train_smote = sm.fit_resample(X_train, y_train)"
   ]
  },
  {
   "cell_type": "code",
   "execution_count": 15,
   "id": "tutorial-orleans",
   "metadata": {},
   "outputs": [
    {
     "data": {
      "text/plain": [
       "(4225, 5)"
      ]
     },
     "execution_count": 15,
     "metadata": {},
     "output_type": "execute_result"
    }
   ],
   "source": [
    "X_train.shape"
   ]
  },
  {
   "cell_type": "code",
   "execution_count": 16,
   "id": "grave-thesaurus",
   "metadata": {},
   "outputs": [
    {
     "data": {
      "text/plain": [
       "(6178, 5)"
      ]
     },
     "execution_count": 16,
     "metadata": {},
     "output_type": "execute_result"
    }
   ],
   "source": [
    "X_train_smote.shape"
   ]
  },
  {
   "cell_type": "code",
   "execution_count": 17,
   "id": "correct-norwegian",
   "metadata": {},
   "outputs": [
    {
     "data": {
      "text/plain": [
       "(6178,)"
      ]
     },
     "execution_count": 17,
     "metadata": {},
     "output_type": "execute_result"
    }
   ],
   "source": [
    "y_train_smote.shape"
   ]
  },
  {
   "cell_type": "code",
   "execution_count": 18,
   "id": "proper-soldier",
   "metadata": {},
   "outputs": [
    {
     "name": "stdout",
     "output_type": "stream",
     "text": [
      "[[   0 3089]\n",
      " [   1 3089]]\n"
     ]
    }
   ],
   "source": [
    "(unique, counts) = np.unique(y_train_smote, return_counts=True)\n",
    "frequencies = np.asarray((unique, counts)).T\n",
    "print(frequencies)"
   ]
  },
  {
   "cell_type": "code",
   "execution_count": 19,
   "id": "bearing-recipient",
   "metadata": {},
   "outputs": [
    {
     "name": "stdout",
     "output_type": "stream",
     "text": [
      " Starting ------- Logistic Regression\n",
      "Fitting 5 folds for each of 60 candidates, totalling 300 fits\n",
      "Best Params-\n",
      "{'logistic__max_iter': 50, 'logistic__penalty': 'none', 'logistic__solver': 'newton-cg'}\n",
      "\n",
      "\n",
      "Algorithm:  Logistic Regression\n",
      "Accuracy:  0.7792760823278921\n",
      "Precision: 0.6071428571428571\n",
      "Recall 0.4191780821917808\n",
      "F1-support: 0.4959481361426256\n",
      "FPR 0.09482758620689655\n",
      "Runtime: 0:00:02.987874\n",
      "Best Params-\n",
      "{'logistic__max_iter': 50, 'logistic__penalty': 'none', 'logistic__solver': 'newton-cg'}\n"
     ]
    },
    {
     "name": "stderr",
     "output_type": "stream",
     "text": [
      "/home/abdullah/DataScience/lib/python3.8/site-packages/sklearn/model_selection/_search.py:918: UserWarning: One or more of the test scores are non-finite: [       nan        nan 0.82035148        nan 0.80905277 0.82037711\n",
      " 0.8203287  0.82034011 0.81615115 0.80916106        nan        nan\n",
      "        nan        nan        nan 0.82041843 0.82040845        nan\n",
      " 0.81624372 0.80917389        nan        nan 0.82035148        nan\n",
      " 0.81610124 0.82037711 0.82038852 0.82034011 0.81934997 0.8161369\n",
      "        nan        nan        nan        nan        nan 0.82041843\n",
      " 0.82041843        nan 0.81933857 0.81618244        nan        nan\n",
      " 0.82035719        nan 0.82031303 0.82037711 0.82038852 0.82034011\n",
      " 0.8203344  0.82032732        nan        nan        nan        nan\n",
      "        nan 0.82041843 0.82041843        nan 0.82040424 0.82031589]\n",
      "  warnings.warn(\n"
     ]
    }
   ],
   "source": [
    "start = dt.now()\n",
    "print(\" Starting ------- Logistic Regression\")\n",
    "pipline = Pipeline([\n",
    "    ('logistic', LogisticRegression())\n",
    "])\n",
    "param_grid ={\n",
    "    'logistic__penalty':('l1', 'l2', 'elasticnet', 'none'),\n",
    "    'logistic__solver':('newton-cg', 'lbfgs', 'liblinear', 'sag', 'saga'),\n",
    "    'logistic__max_iter':[50,100,500]\n",
    "}\n",
    "model = GridSearchCV ( estimator= pipline,\n",
    "                      param_grid = param_grid,\n",
    "                      scoring = 'roc_auc',\n",
    "                      n_jobs = -1,\n",
    "                      pre_dispatch = '2*n_jobs',\n",
    "                      cv = 5,\n",
    "                      verbose = 1,\n",
    "                      return_train_score = False)\n",
    "model.fit(X_train,y_train)\n",
    "pkl_filename = './models/logistic_regression_practise.pkl'\n",
    "with open(pkl_filename, 'wb') as file:\n",
    "    pickle.dump(model, file)\n",
    "X_val_np = X_val.to_numpy()\n",
    "predicted = model.predict(X_val_np)\n",
    "proba = model.predict_proba(X_val_np)\n",
    "accuracy = accuracy_score(y_val,predicted)\n",
    "CM = confusion_matrix(y_val, predicted)\n",
    "(TN,FN,TP,FP) = (CM[0][0],CM[1][0],CM[1][1],CM[0][1])\n",
    "FPR = FP/(FP + TN)\n",
    "precision = TP / (TP + FP)\n",
    "recall = TP / (TP+FN)\n",
    "F1_Score = 2 * (precision * recall) / (precision + recall)\n",
    "end = dt.now()\n",
    "print(\"Best Params-\")\n",
    "print(model.best_params_)\n",
    "print(\"\\n\")\n",
    "print(\"Algorithm: \", 'Logistic Regression')\n",
    "print(\"Accuracy: \",accuracy)\n",
    "print (\"Precision:\", precision)\n",
    "print (\"Recall\", recall)\n",
    "print (\"F1-support:\", F1_Score)\n",
    "print (\"FPR\", FPR)\n",
    "print( \"Runtime:\", (end - start))\n",
    "print(\"Best Params-\")\n",
    "print(model.best_params_)"
   ]
  },
  {
   "cell_type": "code",
   "execution_count": 20,
   "id": "alone-presentation",
   "metadata": {},
   "outputs": [],
   "source": [
    "log_reg = LogisticRegression(penalty=\"l2\", solver= 'newton-cg', n_jobs= -1, max_iter= 50,\n",
    "                             verbose= 1 )"
   ]
  },
  {
   "cell_type": "code",
   "execution_count": 21,
   "id": "floral-london",
   "metadata": {},
   "outputs": [
    {
     "name": "stderr",
     "output_type": "stream",
     "text": [
      "[Parallel(n_jobs=-1)]: Using backend LokyBackend with 12 concurrent workers.\n",
      "[Parallel(n_jobs=-1)]: Done   1 out of   1 | elapsed:    0.0s finished\n"
     ]
    },
    {
     "data": {
      "text/plain": [
       "LogisticRegression(max_iter=50, n_jobs=-1, solver='newton-cg', verbose=1)"
      ]
     },
     "execution_count": 21,
     "metadata": {},
     "output_type": "execute_result"
    }
   ],
   "source": [
    "log_reg.fit(X_train,y_train)"
   ]
  },
  {
   "cell_type": "code",
   "execution_count": 22,
   "id": "consolidated-pottery",
   "metadata": {},
   "outputs": [
    {
     "name": "stdout",
     "output_type": "stream",
     "text": [
      "Accuracy: 0.7792760823278921\n"
     ]
    }
   ],
   "source": [
    "predicted = log_reg.predict(X_val_np)\n",
    "accuracy = accuracy_score(y_val,predicted)\n",
    "print('Accuracy:', accuracy)"
   ]
  },
  {
   "cell_type": "code",
   "execution_count": null,
   "id": "certain-coverage",
   "metadata": {},
   "outputs": [],
   "source": []
  }
 ],
 "metadata": {
  "kernelspec": {
   "display_name": "Python 3",
   "language": "python",
   "name": "python3"
  },
  "language_info": {
   "codemirror_mode": {
    "name": "ipython",
    "version": 3
   },
   "file_extension": ".py",
   "mimetype": "text/x-python",
   "name": "python",
   "nbconvert_exporter": "python",
   "pygments_lexer": "ipython3",
   "version": "3.8.5"
  }
 },
 "nbformat": 4,
 "nbformat_minor": 5
}
