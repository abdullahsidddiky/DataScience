{
 "cells": [
  {
   "cell_type": "code",
   "execution_count": 3,
   "id": "meaning-police",
   "metadata": {},
   "outputs": [],
   "source": [
    "import librosa\n",
    "import IPython.display as ipd\n",
    "import matplotlib.pyplot as plt\n",
    "import librosa.display\n",
    "import sklearn\n",
    "import pandas as pd \n",
    "import os"
   ]
  },
  {
   "cell_type": "code",
   "execution_count": 4,
   "id": "ahead-philadelphia",
   "metadata": {},
   "outputs": [],
   "source": [
    "%matplotlib inline"
   ]
  },
  {
   "cell_type": "code",
   "execution_count": 5,
   "id": "settled-convertible",
   "metadata": {},
   "outputs": [],
   "source": [
    "plt.style.use('fivethirtyeight')\n",
    "pd.options.display.max_columns = None\n",
    "pd.options.display.max_rows = None"
   ]
  },
  {
   "cell_type": "code",
   "execution_count": 6,
   "id": "close-allergy",
   "metadata": {},
   "outputs": [],
   "source": [
    "audio_files=['a1.wav','a2.wav','a3.wav','a4.wav','a5.wav',\n",
    "            'b1.wav','b2.wav','b3.wav','b4.wav','b5.wav',\n",
    "            'c1.wav','c2.wav','c3.wav','c4.wav','c5.wav']\n",
    "audio_filepaths = ['./data/sample/'+x for x in audio_files]"
   ]
  },
  {
   "cell_type": "code",
   "execution_count": null,
   "id": "curious-specialist",
   "metadata": {},
   "outputs": [],
   "source": []
  }
 ],
 "metadata": {
  "kernelspec": {
   "display_name": "Python 3",
   "language": "python",
   "name": "python3"
  },
  "language_info": {
   "codemirror_mode": {
    "name": "ipython",
    "version": 3
   },
   "file_extension": ".py",
   "mimetype": "text/x-python",
   "name": "python",
   "nbconvert_exporter": "python",
   "pygments_lexer": "ipython3",
   "version": "3.8.5"
  }
 },
 "nbformat": 4,
 "nbformat_minor": 5
}
